{
 "cells": [
  {
   "cell_type": "code",
   "id": "initial_id",
   "metadata": {
    "collapsed": true,
    "ExecuteTime": {
     "end_time": "2024-10-11T18:05:40.472191Z",
     "start_time": "2024-10-11T18:05:40.469114Z"
    }
   },
   "source": "from pyspark.sql import SparkSession",
   "outputs": [],
   "execution_count": 46
  },
  {
   "metadata": {
    "ExecuteTime": {
     "end_time": "2024-10-11T18:05:42.053696Z",
     "start_time": "2024-10-11T18:05:42.047580Z"
    }
   },
   "cell_type": "code",
   "source": [
    "spark = (SparkSession.builder         \n",
    "         .config(\"spark.sql.extensions\", \"io.delta.sql.DeltaSparkSessionExtension\")\n",
    "         .config(\"spark.sql.catalog.spark_catalog\", \"org.apache.spark.sql.delta.catalog.DeltaCatalog\")\n",
    "         .config(\"spark.sql.catalogImplementation\", \"hive\")\n",
    "         .config(\"spark.hadoop.hive.metastore.uris\", \"thrift://metastore:9083\")\n",
    "         .enableHiveSupport()\n",
    "         .getOrCreate())"
   ],
   "id": "a84b6e9d73d8e9b5",
   "outputs": [],
   "execution_count": 47
  },
  {
   "metadata": {},
   "cell_type": "markdown",
   "source": "CSV",
   "id": "d604e1553147f656"
  },
  {
   "metadata": {
    "ExecuteTime": {
     "end_time": "2024-10-11T18:05:45.374552Z",
     "start_time": "2024-10-11T18:05:45.259386Z"
    }
   },
   "cell_type": "code",
   "source": [
    "df_csv = spark.read.csv(\"s3a://delta-lake/Churn.csv\",\n",
    "                    header=True, \n",
    "                    inferSchema=True,\n",
    "                    sep=\";\")\n",
    "df_csv.select(\"CreditScore\", \"Geography\", \"Gender\", \"Age\", \"Tenure\", \"Balance\").show(5)"
   ],
   "id": "2e0e744b92ddf049",
   "outputs": [
    {
     "ename": "AnalysisException",
     "evalue": "Path does not exist: s3a://delta-lake/Churn.csv",
     "output_type": "error",
     "traceback": [
      "\u001B[0;31m---------------------------------------------------------------------------\u001B[0m",
      "\u001B[0;31mAnalysisException\u001B[0m                         Traceback (most recent call last)",
      "Cell \u001B[0;32mIn[48], line 1\u001B[0m\n\u001B[0;32m----> 1\u001B[0m df_csv \u001B[38;5;241m=\u001B[39m \u001B[43mspark\u001B[49m\u001B[38;5;241;43m.\u001B[39;49m\u001B[43mread\u001B[49m\u001B[38;5;241;43m.\u001B[39;49m\u001B[43mcsv\u001B[49m\u001B[43m(\u001B[49m\u001B[38;5;124;43m\"\u001B[39;49m\u001B[38;5;124;43ms3a://delta-lake/Churn.csv\u001B[39;49m\u001B[38;5;124;43m\"\u001B[39;49m\u001B[43m,\u001B[49m\n\u001B[1;32m      2\u001B[0m \u001B[43m                    \u001B[49m\u001B[43mheader\u001B[49m\u001B[38;5;241;43m=\u001B[39;49m\u001B[38;5;28;43;01mTrue\u001B[39;49;00m\u001B[43m,\u001B[49m\u001B[43m \u001B[49m\n\u001B[1;32m      3\u001B[0m \u001B[43m                    \u001B[49m\u001B[43minferSchema\u001B[49m\u001B[38;5;241;43m=\u001B[39;49m\u001B[38;5;28;43;01mTrue\u001B[39;49;00m\u001B[43m,\u001B[49m\n\u001B[1;32m      4\u001B[0m \u001B[43m                    \u001B[49m\u001B[43msep\u001B[49m\u001B[38;5;241;43m=\u001B[39;49m\u001B[38;5;124;43m\"\u001B[39;49m\u001B[38;5;124;43m;\u001B[39;49m\u001B[38;5;124;43m\"\u001B[39;49m\u001B[43m)\u001B[49m\n\u001B[1;32m      5\u001B[0m df_csv\u001B[38;5;241m.\u001B[39mselect(\u001B[38;5;124m\"\u001B[39m\u001B[38;5;124mCreditScore\u001B[39m\u001B[38;5;124m\"\u001B[39m, \u001B[38;5;124m\"\u001B[39m\u001B[38;5;124mGeography\u001B[39m\u001B[38;5;124m\"\u001B[39m, \u001B[38;5;124m\"\u001B[39m\u001B[38;5;124mGender\u001B[39m\u001B[38;5;124m\"\u001B[39m, \u001B[38;5;124m\"\u001B[39m\u001B[38;5;124mAge\u001B[39m\u001B[38;5;124m\"\u001B[39m, \u001B[38;5;124m\"\u001B[39m\u001B[38;5;124mTenure\u001B[39m\u001B[38;5;124m\"\u001B[39m, \u001B[38;5;124m\"\u001B[39m\u001B[38;5;124mBalance\u001B[39m\u001B[38;5;124m\"\u001B[39m)\u001B[38;5;241m.\u001B[39mshow(\u001B[38;5;241m5\u001B[39m)\n",
      "File \u001B[0;32m/usr/local/spark/python/pyspark/sql/readwriter.py:535\u001B[0m, in \u001B[0;36mDataFrameReader.csv\u001B[0;34m(self, path, schema, sep, encoding, quote, escape, comment, header, inferSchema, ignoreLeadingWhiteSpace, ignoreTrailingWhiteSpace, nullValue, nanValue, positiveInf, negativeInf, dateFormat, timestampFormat, maxColumns, maxCharsPerColumn, maxMalformedLogPerPartition, mode, columnNameOfCorruptRecord, multiLine, charToEscapeQuoteEscaping, samplingRatio, enforceSchema, emptyValue, locale, lineSep, pathGlobFilter, recursiveFileLookup, modifiedBefore, modifiedAfter, unescapedQuoteHandling)\u001B[0m\n\u001B[1;32m    533\u001B[0m \u001B[38;5;28;01mif\u001B[39;00m \u001B[38;5;28mtype\u001B[39m(path) \u001B[38;5;241m==\u001B[39m \u001B[38;5;28mlist\u001B[39m:\n\u001B[1;32m    534\u001B[0m     \u001B[38;5;28;01massert\u001B[39;00m \u001B[38;5;28mself\u001B[39m\u001B[38;5;241m.\u001B[39m_spark\u001B[38;5;241m.\u001B[39m_sc\u001B[38;5;241m.\u001B[39m_jvm \u001B[38;5;129;01mis\u001B[39;00m \u001B[38;5;129;01mnot\u001B[39;00m \u001B[38;5;28;01mNone\u001B[39;00m\n\u001B[0;32m--> 535\u001B[0m     \u001B[38;5;28;01mreturn\u001B[39;00m \u001B[38;5;28mself\u001B[39m\u001B[38;5;241m.\u001B[39m_df(\u001B[38;5;28;43mself\u001B[39;49m\u001B[38;5;241;43m.\u001B[39;49m\u001B[43m_jreader\u001B[49m\u001B[38;5;241;43m.\u001B[39;49m\u001B[43mcsv\u001B[49m\u001B[43m(\u001B[49m\u001B[38;5;28;43mself\u001B[39;49m\u001B[38;5;241;43m.\u001B[39;49m\u001B[43m_spark\u001B[49m\u001B[38;5;241;43m.\u001B[39;49m\u001B[43m_sc\u001B[49m\u001B[38;5;241;43m.\u001B[39;49m\u001B[43m_jvm\u001B[49m\u001B[38;5;241;43m.\u001B[39;49m\u001B[43mPythonUtils\u001B[49m\u001B[38;5;241;43m.\u001B[39;49m\u001B[43mtoSeq\u001B[49m\u001B[43m(\u001B[49m\u001B[43mpath\u001B[49m\u001B[43m)\u001B[49m\u001B[43m)\u001B[49m)\n\u001B[1;32m    536\u001B[0m \u001B[38;5;28;01melif\u001B[39;00m \u001B[38;5;28misinstance\u001B[39m(path, RDD):\n\u001B[1;32m    538\u001B[0m     \u001B[38;5;28;01mdef\u001B[39;00m \u001B[38;5;21mfunc\u001B[39m(iterator):\n",
      "File \u001B[0;32m/usr/local/spark/python/lib/py4j-0.10.9.5-src.zip/py4j/java_gateway.py:1321\u001B[0m, in \u001B[0;36mJavaMember.__call__\u001B[0;34m(self, *args)\u001B[0m\n\u001B[1;32m   1315\u001B[0m command \u001B[38;5;241m=\u001B[39m proto\u001B[38;5;241m.\u001B[39mCALL_COMMAND_NAME \u001B[38;5;241m+\u001B[39m\\\n\u001B[1;32m   1316\u001B[0m     \u001B[38;5;28mself\u001B[39m\u001B[38;5;241m.\u001B[39mcommand_header \u001B[38;5;241m+\u001B[39m\\\n\u001B[1;32m   1317\u001B[0m     args_command \u001B[38;5;241m+\u001B[39m\\\n\u001B[1;32m   1318\u001B[0m     proto\u001B[38;5;241m.\u001B[39mEND_COMMAND_PART\n\u001B[1;32m   1320\u001B[0m answer \u001B[38;5;241m=\u001B[39m \u001B[38;5;28mself\u001B[39m\u001B[38;5;241m.\u001B[39mgateway_client\u001B[38;5;241m.\u001B[39msend_command(command)\n\u001B[0;32m-> 1321\u001B[0m return_value \u001B[38;5;241m=\u001B[39m \u001B[43mget_return_value\u001B[49m\u001B[43m(\u001B[49m\n\u001B[1;32m   1322\u001B[0m \u001B[43m    \u001B[49m\u001B[43manswer\u001B[49m\u001B[43m,\u001B[49m\u001B[43m \u001B[49m\u001B[38;5;28;43mself\u001B[39;49m\u001B[38;5;241;43m.\u001B[39;49m\u001B[43mgateway_client\u001B[49m\u001B[43m,\u001B[49m\u001B[43m \u001B[49m\u001B[38;5;28;43mself\u001B[39;49m\u001B[38;5;241;43m.\u001B[39;49m\u001B[43mtarget_id\u001B[49m\u001B[43m,\u001B[49m\u001B[43m \u001B[49m\u001B[38;5;28;43mself\u001B[39;49m\u001B[38;5;241;43m.\u001B[39;49m\u001B[43mname\u001B[49m\u001B[43m)\u001B[49m\n\u001B[1;32m   1324\u001B[0m \u001B[38;5;28;01mfor\u001B[39;00m temp_arg \u001B[38;5;129;01min\u001B[39;00m temp_args:\n\u001B[1;32m   1325\u001B[0m     temp_arg\u001B[38;5;241m.\u001B[39m_detach()\n",
      "File \u001B[0;32m/usr/local/spark/python/pyspark/sql/utils.py:196\u001B[0m, in \u001B[0;36mcapture_sql_exception.<locals>.deco\u001B[0;34m(*a, **kw)\u001B[0m\n\u001B[1;32m    192\u001B[0m converted \u001B[38;5;241m=\u001B[39m convert_exception(e\u001B[38;5;241m.\u001B[39mjava_exception)\n\u001B[1;32m    193\u001B[0m \u001B[38;5;28;01mif\u001B[39;00m \u001B[38;5;129;01mnot\u001B[39;00m \u001B[38;5;28misinstance\u001B[39m(converted, UnknownException):\n\u001B[1;32m    194\u001B[0m     \u001B[38;5;66;03m# Hide where the exception came from that shows a non-Pythonic\u001B[39;00m\n\u001B[1;32m    195\u001B[0m     \u001B[38;5;66;03m# JVM exception message.\u001B[39;00m\n\u001B[0;32m--> 196\u001B[0m     \u001B[38;5;28;01mraise\u001B[39;00m converted \u001B[38;5;28;01mfrom\u001B[39;00m \u001B[38;5;28mNone\u001B[39m\n\u001B[1;32m    197\u001B[0m \u001B[38;5;28;01melse\u001B[39;00m:\n\u001B[1;32m    198\u001B[0m     \u001B[38;5;28;01mraise\u001B[39;00m\n",
      "\u001B[0;31mAnalysisException\u001B[0m: Path does not exist: s3a://delta-lake/Churn.csv"
     ]
    }
   ],
   "execution_count": 48
  },
  {
   "metadata": {},
   "cell_type": "markdown",
   "source": "Json",
   "id": "ad771f1280643037"
  },
  {
   "metadata": {
    "ExecuteTime": {
     "end_time": "2024-10-11T13:56:41.201547Z",
     "start_time": "2024-10-11T13:56:40.896385Z"
    }
   },
   "cell_type": "code",
   "source": [
    "df_json = spark.read.json(\"s3a://tmp/test_data.json\")\n",
    "df_json.show()"
   ],
   "id": "9e6c1785b1a9a8bb",
   "outputs": [
    {
     "name": "stdout",
     "output_type": "stream",
     "text": [
      "+--------------+---+-----+-------+\n",
      "|        cidade| id|idade|   nome|\n",
      "+--------------+---+-----+-------+\n",
      "|     São Paulo|  1|   30|  Alice|\n",
      "|Rio de Janeiro|  2|   25|  Bruno|\n",
      "|Belo Horizonte|  3|   40|  Carla|\n",
      "|      Curitiba|  4|   35| Daniel|\n",
      "|  Porto Alegre|  5|   28|Eduarda|\n",
      "+--------------+---+-----+-------+\n",
      "\n"
     ]
    }
   ],
   "execution_count": 9
  },
  {
   "metadata": {},
   "cell_type": "markdown",
   "source": "Parquet",
   "id": "f1a63844cd76f6c2"
  },
  {
   "metadata": {
    "ExecuteTime": {
     "end_time": "2024-10-11T14:32:35.942873Z",
     "start_time": "2024-10-11T14:32:35.740383Z"
    }
   },
   "cell_type": "code",
   "source": [
    "df_parquet = spark.read.parquet(\"s3a://delta-lake/demo4\")\n",
    "df_parquet.select(\"home_teamName\", \"away_teamName\", \"cityCity\").show(5)"
   ],
   "id": "e1a13814c98a97b",
   "outputs": [
    {
     "name": "stdout",
     "output_type": "stream",
     "text": [
      "+-------------+-------------+--------+\n",
      "|home_teamName|away_teamName|cityCity|\n",
      "+-------------+-------------+--------+\n",
      "|     Scotland|      England| Glasgow|\n",
      "|      England|     Scotland|  London|\n",
      "|     Scotland|      England| Glasgow|\n",
      "|      England|     Scotland|  London|\n",
      "|     Scotland|      England| Glasgow|\n",
      "+-------------+-------------+--------+\n",
      "only showing top 5 rows\n",
      "\n"
     ]
    }
   ],
   "execution_count": 17
  },
  {
   "metadata": {},
   "cell_type": "markdown",
   "source": "Delta",
   "id": "f8fe9ddc3d16e04c"
  },
  {
   "metadata": {
    "ExecuteTime": {
     "end_time": "2024-10-11T16:55:03.599363Z",
     "start_time": "2024-10-11T16:55:01.738406Z"
    }
   },
   "cell_type": "code",
   "source": [
    "df_delta = spark.read.format(\"delta\").load(\"s3a://delta-lake/demo4/\")\n",
    "df_delta.show(5)"
   ],
   "id": "2028705260861cae",
   "outputs": [
    {
     "name": "stdout",
     "output_type": "stream",
     "text": [
      "+----------+-------------+-------------+--------------+--------------+--------------+--------+--------------+-----------+\n",
      "|        dt|home_teamName|away_teamName|home_scoreHome|away_scoreAway|tournamentName|cityCity|countryCountry|neutralTRUE|\n",
      "+----------+-------------+-------------+--------------+--------------+--------------+--------+--------------+-----------+\n",
      "|1872-11-30|     Scotland|      England|             0|             0|      Friendly| Glasgow|      Scotland|      FALSE|\n",
      "|1873-03-08|      England|     Scotland|             4|             2|      Friendly|  London|       England|      FALSE|\n",
      "|1874-03-07|     Scotland|      England|             2|             1|      Friendly| Glasgow|      Scotland|      FALSE|\n",
      "|1875-03-06|      England|     Scotland|             2|             2|      Friendly|  London|       England|      FALSE|\n",
      "|1876-03-04|     Scotland|      England|             3|             0|      Friendly| Glasgow|      Scotland|      FALSE|\n",
      "+----------+-------------+-------------+--------------+--------------+--------------+--------+--------------+-----------+\n",
      "only showing top 5 rows\n",
      "\n"
     ]
    }
   ],
   "execution_count": 21
  },
  {
   "metadata": {},
   "cell_type": "markdown",
   "source": "Analisando Tabela/DataFrame e suas colunas",
   "id": "fa0e4cb9739048af"
  },
  {
   "metadata": {
    "ExecuteTime": {
     "end_time": "2024-10-11T17:04:36.447836Z",
     "start_time": "2024-10-11T17:04:36.269920Z"
    }
   },
   "cell_type": "code",
   "source": "df_parquet.show(10, truncate=False, vertical=True)",
   "id": "4d644091b3a0ba1c",
   "outputs": [
    {
     "name": "stdout",
     "output_type": "stream",
     "text": [
      "-RECORD 0--------------------\n",
      " dt             | 1872-11-30 \n",
      " home_teamName  | Scotland   \n",
      " away_teamName  | England    \n",
      " home_scoreHome | 0          \n",
      " away_scoreAway | 0          \n",
      " tournamentName | Friendly   \n",
      " cityCity       | Glasgow    \n",
      " countryCountry | Scotland   \n",
      " neutralTRUE    | FALSE      \n",
      "-RECORD 1--------------------\n",
      " dt             | 1873-03-08 \n",
      " home_teamName  | England    \n",
      " away_teamName  | Scotland   \n",
      " home_scoreHome | 4          \n",
      " away_scoreAway | 2          \n",
      " tournamentName | Friendly   \n",
      " cityCity       | London     \n",
      " countryCountry | England    \n",
      " neutralTRUE    | FALSE      \n",
      "-RECORD 2--------------------\n",
      " dt             | 1874-03-07 \n",
      " home_teamName  | Scotland   \n",
      " away_teamName  | England    \n",
      " home_scoreHome | 2          \n",
      " away_scoreAway | 1          \n",
      " tournamentName | Friendly   \n",
      " cityCity       | Glasgow    \n",
      " countryCountry | Scotland   \n",
      " neutralTRUE    | FALSE      \n",
      "-RECORD 3--------------------\n",
      " dt             | 1875-03-06 \n",
      " home_teamName  | England    \n",
      " away_teamName  | Scotland   \n",
      " home_scoreHome | 2          \n",
      " away_scoreAway | 2          \n",
      " tournamentName | Friendly   \n",
      " cityCity       | London     \n",
      " countryCountry | England    \n",
      " neutralTRUE    | FALSE      \n",
      "-RECORD 4--------------------\n",
      " dt             | 1876-03-04 \n",
      " home_teamName  | Scotland   \n",
      " away_teamName  | England    \n",
      " home_scoreHome | 3          \n",
      " away_scoreAway | 0          \n",
      " tournamentName | Friendly   \n",
      " cityCity       | Glasgow    \n",
      " countryCountry | Scotland   \n",
      " neutralTRUE    | FALSE      \n",
      "-RECORD 5--------------------\n",
      " dt             | 1876-03-25 \n",
      " home_teamName  | Scotland   \n",
      " away_teamName  | Wales      \n",
      " home_scoreHome | 4          \n",
      " away_scoreAway | 0          \n",
      " tournamentName | Friendly   \n",
      " cityCity       | Glasgow    \n",
      " countryCountry | Scotland   \n",
      " neutralTRUE    | FALSE      \n",
      "-RECORD 6--------------------\n",
      " dt             | 1877-03-03 \n",
      " home_teamName  | England    \n",
      " away_teamName  | Scotland   \n",
      " home_scoreHome | 1          \n",
      " away_scoreAway | 3          \n",
      " tournamentName | Friendly   \n",
      " cityCity       | London     \n",
      " countryCountry | England    \n",
      " neutralTRUE    | FALSE      \n",
      "-RECORD 7--------------------\n",
      " dt             | 1877-03-05 \n",
      " home_teamName  | Wales      \n",
      " away_teamName  | Scotland   \n",
      " home_scoreHome | 0          \n",
      " away_scoreAway | 2          \n",
      " tournamentName | Friendly   \n",
      " cityCity       | Wrexham    \n",
      " countryCountry | Wales      \n",
      " neutralTRUE    | FALSE      \n",
      "-RECORD 8--------------------\n",
      " dt             | 1878-03-02 \n",
      " home_teamName  | Scotland   \n",
      " away_teamName  | England    \n",
      " home_scoreHome | 7          \n",
      " away_scoreAway | 2          \n",
      " tournamentName | Friendly   \n",
      " cityCity       | Glasgow    \n",
      " countryCountry | Scotland   \n",
      " neutralTRUE    | FALSE      \n",
      "-RECORD 9--------------------\n",
      " dt             | 1878-03-23 \n",
      " home_teamName  | Scotland   \n",
      " away_teamName  | Wales      \n",
      " home_scoreHome | 9          \n",
      " away_scoreAway | 0          \n",
      " tournamentName | Friendly   \n",
      " cityCity       | Glasgow    \n",
      " countryCountry | Scotland   \n",
      " neutralTRUE    | FALSE      \n",
      "only showing top 10 rows\n",
      "\n"
     ]
    }
   ],
   "execution_count": 23
  },
  {
   "metadata": {
    "ExecuteTime": {
     "end_time": "2024-10-11T17:32:25.861421Z",
     "start_time": "2024-10-11T17:32:25.828708Z"
    }
   },
   "cell_type": "code",
   "source": [
    "spark.sql(\"SHOW DATABASES\").show()\n",
    "spark.sql(\"use desp\")"
   ],
   "id": "b6562380015223bd",
   "outputs": [
    {
     "name": "stdout",
     "output_type": "stream",
     "text": [
      "+---------+\n",
      "|namespace|\n",
      "+---------+\n",
      "|  default|\n",
      "|     desp|\n",
      "+---------+\n",
      "\n"
     ]
    },
    {
     "data": {
      "text/plain": [
       "DataFrame[]"
      ]
     },
     "execution_count": 40,
     "metadata": {},
     "output_type": "execute_result"
    }
   ],
   "execution_count": 40
  },
  {
   "metadata": {
    "ExecuteTime": {
     "end_time": "2024-10-11T17:34:43.982124Z",
     "start_time": "2024-10-11T17:34:43.603743Z"
    }
   },
   "cell_type": "code",
   "source": "spark.sql(\"select * from churn_geo\").show()",
   "id": "1b9d286abbcfc386",
   "outputs": [
    {
     "name": "stdout",
     "output_type": "stream",
     "text": [
      "+-----------+------+---+------+--------+-------------+---------+--------------+---------------+------+---------+\n",
      "|CreditScore|Gender|Age|Tenure| Balance|NumOfProducts|HasCrCard|IsActiveMember|EstimatedSalary|Exited|Geography|\n",
      "+-----------+------+---+------+--------+-------------+---------+--------------+---------------+------+---------+\n",
      "|        619|Female| 42|     2|       0|            1|        1|             1|       10134888|     1|   France|\n",
      "|        502|Female| 42|     8| 1596608|            3|        1|             0|       11393157|     1|   France|\n",
      "|        699|Female| 39|     1|       0|            2|        0|             0|        9382663|     0|   France|\n",
      "|        822|  Male| 50|     7|       0|            2|        1|             1|         100628|     0|   France|\n",
      "|        501|  Male| 44|     4|14205107|            2|        0|             1|         749405|     0|   France|\n",
      "|        684|  Male| 27|     2|13460388|            1|        1|             1|        7172573|     0|   France|\n",
      "|        528|  Male| 31|     6|10201672|            2|        0|             0|        8018112|     0|   France|\n",
      "|        476|Female| 34|    10|       0|            2|        1|             0|        2626098|     0|   France|\n",
      "|        549|Female| 25|     5|       0|            2|        0|             0|       19085779|     0|   France|\n",
      "|        726|Female| 24|     6|       0|            2|        1|             1|        5472403|     0|   France|\n",
      "|        732|  Male| 41|     8|       0|            2|        1|             1|       17088617|     0|   France|\n",
      "|        669|  Male| 46|     3|       0|            2|        0|             1|         848775|     0|   France|\n",
      "|        846|Female| 38|     5|       0|            1|        1|             1|       18761616|     0|   France|\n",
      "|        577|  Male| 25|     3|       0|            2|        0|             1|       12450829|     0|   France|\n",
      "|        571|  Male| 44|     9|       0|            2|        0|             0|        3843335|     0|   France|\n",
      "|        411|  Male| 29|     0| 5969717|            2|        1|             1|        5348321|     0|   France|\n",
      "|        533|  Male| 36|     7|  853117|            1|        0|             1|       15673191|     0|   France|\n",
      "|        475|Female| 45|     0|13426404|            1|        1|             0|        2782299|     1|   France|\n",
      "|        850|  Male| 36|     7|       0|            1|        1|             1|         408129|     0|   France|\n",
      "|        465|Female| 51|     8|12252232|            1|        0|             0|       18129765|     1|   France|\n",
      "+-----------+------+---+------+--------+-------------+---------+--------------+---------------+------+---------+\n",
      "only showing top 20 rows\n",
      "\n"
     ]
    }
   ],
   "execution_count": 45
  }
 ],
 "metadata": {
  "kernelspec": {
   "display_name": "Python 3",
   "language": "python",
   "name": "python3"
  },
  "language_info": {
   "codemirror_mode": {
    "name": "ipython",
    "version": 2
   },
   "file_extension": ".py",
   "mimetype": "text/x-python",
   "name": "python",
   "nbconvert_exporter": "python",
   "pygments_lexer": "ipython2",
   "version": "2.7.6"
  }
 },
 "nbformat": 4,
 "nbformat_minor": 5
}
