{
 "cells": [
  {
   "cell_type": "code",
   "id": "initial_id",
   "metadata": {
    "collapsed": true,
    "ExecuteTime": {
     "end_time": "2024-10-12T23:43:36.738511Z",
     "start_time": "2024-10-12T23:43:36.727319Z"
    }
   },
   "source": [
    "from pyspark.sql import SparkSession\n",
    "from pyspark.sql import functions as F\n",
    "from pyspark.dbutils import DBUtils"
   ],
   "outputs": [
    {
     "ename": "ModuleNotFoundError",
     "evalue": "No module named 'pyspark.dbutils'",
     "output_type": "error",
     "traceback": [
      "\u001B[0;31m---------------------------------------------------------------------------\u001B[0m",
      "\u001B[0;31mModuleNotFoundError\u001B[0m                       Traceback (most recent call last)",
      "Cell \u001B[0;32mIn[14], line 3\u001B[0m\n\u001B[1;32m      1\u001B[0m \u001B[38;5;28;01mfrom\u001B[39;00m \u001B[38;5;21;01mpyspark\u001B[39;00m\u001B[38;5;21;01m.\u001B[39;00m\u001B[38;5;21;01msql\u001B[39;00m \u001B[38;5;28;01mimport\u001B[39;00m SparkSession\n\u001B[1;32m      2\u001B[0m \u001B[38;5;28;01mfrom\u001B[39;00m \u001B[38;5;21;01mpyspark\u001B[39;00m\u001B[38;5;21;01m.\u001B[39;00m\u001B[38;5;21;01msql\u001B[39;00m \u001B[38;5;28;01mimport\u001B[39;00m functions \u001B[38;5;28;01mas\u001B[39;00m F\n\u001B[0;32m----> 3\u001B[0m \u001B[38;5;28;01mfrom\u001B[39;00m \u001B[38;5;21;01mpyspark\u001B[39;00m\u001B[38;5;21;01m.\u001B[39;00m\u001B[38;5;21;01mdbutils\u001B[39;00m \u001B[38;5;28;01mimport\u001B[39;00m DBUtils\n",
      "\u001B[0;31mModuleNotFoundError\u001B[0m: No module named 'pyspark.dbutils'"
     ]
    }
   ],
   "execution_count": 14
  },
  {
   "metadata": {
    "ExecuteTime": {
     "end_time": "2024-10-12T23:22:26.862830Z",
     "start_time": "2024-10-12T23:22:24.663820Z"
    }
   },
   "cell_type": "code",
   "source": [
    "spark = (\n",
    "    SparkSession\n",
    "    .builder\n",
    "    .appName(\"Spark - tratando nulos ou vazios\")\n",
    "    .enableHiveSupport()\n",
    "    .getOrCreate()\n",
    ")"
   ],
   "id": "9439fb9f164f6de0",
   "outputs": [],
   "execution_count": 2
  },
  {
   "metadata": {
    "ExecuteTime": {
     "end_time": "2024-10-12T23:28:12.488212Z",
     "start_time": "2024-10-12T23:28:09.095666Z"
    }
   },
   "cell_type": "code",
   "source": [
    "df = spark.createDataFrame([\n",
    "    (4, 'a', None),\n",
    "    (2, None, 0),\n",
    "    (None, 'b', 1)\n",
    "], ['valor', 'letra', 'sim_nao'])\n",
    "\n",
    "df.show()"
   ],
   "id": "d9d23985528f1bab",
   "outputs": [
    {
     "name": "stdout",
     "output_type": "stream",
     "text": [
      "+-----+-----+-------+\n",
      "|valor|letra|sim_nao|\n",
      "+-----+-----+-------+\n",
      "|    4|    a|   null|\n",
      "|    2| null|      0|\n",
      "| null|    b|      1|\n",
      "+-----+-----+-------+\n",
      "\n"
     ]
    }
   ],
   "execution_count": 6
  },
  {
   "metadata": {
    "ExecuteTime": {
     "end_time": "2024-10-12T23:29:00.915732Z",
     "start_time": "2024-10-12T23:29:00.369407Z"
    }
   },
   "cell_type": "code",
   "source": "df.agg(F.count('letra')).show()",
   "id": "c3b0661dec11001f",
   "outputs": [
    {
     "name": "stdout",
     "output_type": "stream",
     "text": [
      "+------------+\n",
      "|count(letra)|\n",
      "+------------+\n",
      "|           2|\n",
      "+------------+\n",
      "\n"
     ]
    }
   ],
   "execution_count": 7
  },
  {
   "metadata": {
    "ExecuteTime": {
     "end_time": "2024-10-12T23:36:52.521185Z",
     "start_time": "2024-10-12T23:36:51.039679Z"
    }
   },
   "cell_type": "code",
   "source": [
    "airbnb = spark.read.csv('s3a://tmp/sf-airbnb.csv',\n",
    "                        header=True,\n",
    "                        inferSchema=True,\n",
    "                        sep=',')\n",
    "airbnb.show(5)"
   ],
   "id": "608d1649b749304c",
   "outputs": [
    {
     "name": "stdout",
     "output_type": "stream",
     "text": [
      "+----+--------------------+-------+----------------+-------------------+----------------+--------+----------+---------------+-----+--------------+-----------------+-----------+-----------------+------------------------------+----------------+\n",
      "|  id|                name|host_id|       host_name|neighbourhood_group|   neighbourhood|latitude| longitude|      room_type|price|minimum_nights|number_of_reviews|last_review|reviews_per_month|calculated_host_listings_count|availability_365|\n",
      "+----+--------------------+-------+----------------+-------------------+----------------+--------+----------+---------------+-----+--------------+-----------------+-----------+-----------------+------------------------------+----------------+\n",
      "| 958|Bright, Modern Ga...|   1169|           Holly|               null|Western Addition|37.76931|-122.43386|Entire home/apt|  170|             1|              194|  5/31/2019|              1.6|                           1.0|              92|\n",
      "|3850|Charming room for...|   4921|           Kevin|               null|    Inner Sunset|37.75402|-122.45805|   Private room|   99|             1|              126|   7/4/2019|             1.04|                           3.0|              68|\n",
      "|5858|  Creative Sanctuary|   8904|Philip And Tania|               null|  Bernal Heights|37.74511|-122.42102|Entire home/apt|  235|            30|              111|   8/6/2017|              0.9|                           1.0|               0|\n",
      "|7918|A Friendly Room -...|  21994|           Aaron|               null|  Haight Ashbury|37.76669| -122.4525|   Private room|   65|            32|               17| 11/21/2016|             0.14|                           9.0|             365|\n",
      "|8142|Friendly Room Apt...|  21994|           Aaron|               null|  Haight Ashbury|37.76487|-122.45183|   Private room|   65|            32|                8|  9/12/2018|             0.14|                           9.0|             338|\n",
      "+----+--------------------+-------+----------------+-------------------+----------------+--------+----------+---------------+-----+--------------+-----------------+-----------+-----------------+------------------------------+----------------+\n",
      "only showing top 5 rows\n",
      "\n"
     ]
    }
   ],
   "execution_count": 8
  },
  {
   "metadata": {
    "ExecuteTime": {
     "end_time": "2024-10-12T23:38:12.609969Z",
     "start_time": "2024-10-12T23:38:12.602947Z"
    }
   },
   "cell_type": "code",
   "source": "airbnb.printSchema()",
   "id": "c90d4053193d0e35",
   "outputs": [
    {
     "name": "stdout",
     "output_type": "stream",
     "text": [
      "root\n",
      " |-- id: string (nullable = true)\n",
      " |-- name: string (nullable = true)\n",
      " |-- host_id: string (nullable = true)\n",
      " |-- host_name: string (nullable = true)\n",
      " |-- neighbourhood_group: string (nullable = true)\n",
      " |-- neighbourhood: string (nullable = true)\n",
      " |-- latitude: string (nullable = true)\n",
      " |-- longitude: string (nullable = true)\n",
      " |-- room_type: string (nullable = true)\n",
      " |-- price: string (nullable = true)\n",
      " |-- minimum_nights: integer (nullable = true)\n",
      " |-- number_of_reviews: string (nullable = true)\n",
      " |-- last_review: string (nullable = true)\n",
      " |-- reviews_per_month: string (nullable = true)\n",
      " |-- calculated_host_listings_count: double (nullable = true)\n",
      " |-- availability_365: integer (nullable = true)\n",
      "\n"
     ]
    }
   ],
   "execution_count": 9
  },
  {
   "metadata": {
    "ExecuteTime": {
     "end_time": "2024-10-12T23:47:19.923710Z",
     "start_time": "2024-10-12T23:47:19.478354Z"
    }
   },
   "cell_type": "code",
   "source": [
    "# Recurso para mostrar os detalhes sobre o DataFrame\n",
    "airbnb_pd = airbnb.toPandas()\n",
    "summary_airbnb = airbnb_pd.describe(include='all')\n",
    "print(summary_airbnb)"
   ],
   "id": "50259bf12108f355",
   "outputs": [
    {
     "name": "stdout",
     "output_type": "stream",
     "text": [
      "          id                name   host_id host_name neighbourhood_group  \\\n",
      "count   7745                7745      7738      7729                   8   \n",
      "unique  7745                7491      4205      2132                   8   \n",
      "top      958  The Bartlett QUEEN  48005494      Zeus             Cathryn   \n",
      "freq       1                  26       249       249                   1   \n",
      "mean     NaN                 NaN       NaN       NaN                 NaN   \n",
      "std      NaN                 NaN       NaN       NaN                 NaN   \n",
      "min      NaN                 NaN       NaN       NaN                 NaN   \n",
      "25%      NaN                 NaN       NaN       NaN                 NaN   \n",
      "50%      NaN                 NaN       NaN       NaN                 NaN   \n",
      "75%      NaN                 NaN       NaN       NaN                 NaN   \n",
      "max      NaN                 NaN       NaN       NaN                 NaN   \n",
      "\n",
      "       neighbourhood  latitude   longitude        room_type price  \\\n",
      "count           7737      7738        7738             7738  7738   \n",
      "unique            43      4923        4997               11   517   \n",
      "top          Mission  37.78811  -122.40925  Entire home/apt   150   \n",
      "freq             738         8           8             4699   262   \n",
      "mean             NaN       NaN         NaN              NaN   NaN   \n",
      "std              NaN       NaN         NaN              NaN   NaN   \n",
      "min              NaN       NaN         NaN              NaN   NaN   \n",
      "25%              NaN       NaN         NaN              NaN   NaN   \n",
      "50%              NaN       NaN         NaN              NaN   NaN   \n",
      "75%              NaN       NaN         NaN              NaN   NaN   \n",
      "max              NaN       NaN         NaN              NaN   NaN   \n",
      "\n",
      "        minimum_nights number_of_reviews last_review reviews_per_month  \\\n",
      "count     7.738000e+03              7737        6165              6166   \n",
      "unique             NaN               393         821               802   \n",
      "top                NaN                 0   6/30/2019                 1   \n",
      "freq               NaN              1573         276               106   \n",
      "mean      1.293979e+04               NaN         NaN               NaN   \n",
      "std       1.136804e+06               NaN         NaN               NaN   \n",
      "min       0.000000e+00               NaN         NaN               NaN   \n",
      "25%       2.000000e+00               NaN         NaN               NaN   \n",
      "50%       4.000000e+00               NaN         NaN               NaN   \n",
      "75%       3.000000e+01               NaN         NaN               NaN   \n",
      "max       1.000000e+08               NaN         NaN               NaN   \n",
      "\n",
      "        calculated_host_listings_count  availability_365  \n",
      "count                      7738.000000       7731.000000  \n",
      "unique                             NaN               NaN  \n",
      "top                                NaN               NaN  \n",
      "freq                               NaN               NaN  \n",
      "mean                         21.369029        152.959643  \n",
      "std                          53.275268        129.561563  \n",
      "min                           1.000000          0.000000  \n",
      "25%                           1.000000         25.000000  \n",
      "50%                           2.000000        129.000000  \n",
      "75%                           8.000000        290.000000  \n",
      "max                         319.000000        365.000000  \n"
     ]
    }
   ],
   "execution_count": 15
  },
  {
   "metadata": {},
   "cell_type": "code",
   "outputs": [],
   "execution_count": null,
   "source": "",
   "id": "1c8bc627077279c6"
  },
  {
   "metadata": {},
   "cell_type": "code",
   "outputs": [],
   "execution_count": null,
   "source": "",
   "id": "f63fb8adb2a1f423"
  }
 ],
 "metadata": {
  "kernelspec": {
   "display_name": "Python 3",
   "language": "python",
   "name": "python3"
  },
  "language_info": {
   "codemirror_mode": {
    "name": "ipython",
    "version": 2
   },
   "file_extension": ".py",
   "mimetype": "text/x-python",
   "name": "python",
   "nbconvert_exporter": "python",
   "pygments_lexer": "ipython2",
   "version": "2.7.6"
  }
 },
 "nbformat": 4,
 "nbformat_minor": 5
}
