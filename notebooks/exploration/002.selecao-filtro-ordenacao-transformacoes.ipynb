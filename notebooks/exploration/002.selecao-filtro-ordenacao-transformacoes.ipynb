{
 "cells": [
  {
   "cell_type": "code",
   "id": "initial_id",
   "metadata": {
    "collapsed": true,
    "ExecuteTime": {
     "end_time": "2024-10-12T22:30:38.185506Z",
     "start_time": "2024-10-12T22:30:37.871931Z"
    }
   },
   "source": [
    "from pyspark.sql import SparkSession\n",
    "from pyspark.sql import functions as F"
   ],
   "outputs": [],
   "execution_count": 2
  },
  {
   "metadata": {
    "ExecuteTime": {
     "end_time": "2024-10-12T22:30:43.324475Z",
     "start_time": "2024-10-12T22:30:40.565867Z"
    }
   },
   "cell_type": "code",
   "source": [
    "spark = (SparkSession.builder\n",
    "                     .enableHiveSupport()\n",
    "                     .getOrCreate()\n",
    "         )"
   ],
   "id": "38f21b3e0a38e340",
   "outputs": [],
   "execution_count": 3
  },
  {
   "metadata": {
    "ExecuteTime": {
     "end_time": "2024-10-12T22:30:49.309654Z",
     "start_time": "2024-10-12T22:30:44.769883Z"
    }
   },
   "cell_type": "code",
   "source": [
    "df_csv = spark.read.csv(\"s3a://tmp/Churn.csv\",\n",
    "                        header=True,\n",
    "                        inferSchema=True,\n",
    "                        sep=\";\")\n",
    "df_csv.show(5)"
   ],
   "id": "a39da0a924c19995",
   "outputs": [
    {
     "name": "stdout",
     "output_type": "stream",
     "text": [
      "+-----------+---------+------+---+------+--------+-------------+---------+--------------+---------------+------+\n",
      "|CreditScore|Geography|Gender|Age|Tenure| Balance|NumOfProducts|HasCrCard|IsActiveMember|EstimatedSalary|Exited|\n",
      "+-----------+---------+------+---+------+--------+-------------+---------+--------------+---------------+------+\n",
      "|        619|   France|Female| 42|     2|       0|            1|        1|             1|       10134888|     1|\n",
      "|        608|    Spain|Female| 41|     1| 8380786|            1|        0|             1|       11254258|     0|\n",
      "|        502|   France|Female| 42|     8| 1596608|            3|        1|             0|       11393157|     1|\n",
      "|        699|   France|Female| 39|     1|       0|            2|        0|             0|        9382663|     0|\n",
      "|        850|    Spain|Female| 43|     2|12551082|            1|        1|             1|         790841|     0|\n",
      "+-----------+---------+------+---+------+--------+-------------+---------+--------------+---------------+------+\n",
      "only showing top 5 rows\n",
      "\n"
     ]
    }
   ],
   "execution_count": 4
  },
  {
   "metadata": {
    "ExecuteTime": {
     "end_time": "2024-10-12T22:30:52.456328Z",
     "start_time": "2024-10-12T22:30:52.329980Z"
    }
   },
   "cell_type": "code",
   "source": [
    "df_csv.select(\n",
    "    F.col('Gender'),\n",
    "    F.col('Age')\n",
    ").show(5)"
   ],
   "id": "4a25fe0477a0886f",
   "outputs": [
    {
     "name": "stdout",
     "output_type": "stream",
     "text": [
      "+------+---+\n",
      "|Gender|Age|\n",
      "+------+---+\n",
      "|Female| 42|\n",
      "|Female| 41|\n",
      "|Female| 42|\n",
      "|Female| 39|\n",
      "|Female| 43|\n",
      "+------+---+\n",
      "only showing top 5 rows\n",
      "\n"
     ]
    }
   ],
   "execution_count": 5
  },
  {
   "metadata": {
    "ExecuteTime": {
     "end_time": "2024-10-12T22:32:21.765598Z",
     "start_time": "2024-10-12T22:32:21.265308Z"
    }
   },
   "cell_type": "code",
   "source": [
    "df_csv.select(\n",
    "    F.col('Geography')\n",
    ").distinct().show()"
   ],
   "id": "382a120a866952bb",
   "outputs": [
    {
     "name": "stdout",
     "output_type": "stream",
     "text": [
      "+---------+\n",
      "|Geography|\n",
      "+---------+\n",
      "|  Germany|\n",
      "|   France|\n",
      "|    Spain|\n",
      "+---------+\n",
      "\n"
     ]
    }
   ],
   "execution_count": 7
  },
  {
   "metadata": {
    "ExecuteTime": {
     "end_time": "2024-10-12T23:05:04.963174Z",
     "start_time": "2024-10-12T23:05:04.691703Z"
    }
   },
   "cell_type": "code",
   "source": [
    "(\n",
    "    df_csv\n",
    "    .filter((F.col('Balance') >= 1596608) & \n",
    "            (F.col('Geography') == 'France') |\n",
    "            (F.col('Gender') == 'Male') &\n",
    "            (F.col('Age') == 25))\n",
    "    .orderBy(F.col('Balance').desc())\n",
    ").show()"
   ],
   "id": "17b76d224326db4a",
   "outputs": [
    {
     "name": "stdout",
     "output_type": "stream",
     "text": [
      "+-----------+---------+------+---+------+--------+-------------+---------+--------------+---------------+------+\n",
      "|CreditScore|Geography|Gender|Age|Tenure| Balance|NumOfProducts|HasCrCard|IsActiveMember|EstimatedSalary|Exited|\n",
      "+-----------+---------+------+---+------+--------+-------------+---------+--------------+---------------+------+\n",
      "|        583|   France|Female| 57|     3|23838756|            1|        0|             1|       14796499|     1|\n",
      "|        592|   France|  Male| 37|     4|21269297|            1|        0|             0|       17639502|     0|\n",
      "|        541|   France|  Male| 37|     9|21231403|            1|        0|             1|       14881454|     0|\n",
      "|        850|   France|Female| 35|     1|21177431|            1|        1|             0|       18857412|     1|\n",
      "|        596|   France|  Male| 21|     4|21043308|            2|        0|             1|       19729777|     1|\n",
      "|        479|   France|Female| 33|     2|20816553|            1|        0|             0|        5077481|     1|\n",
      "|        504|   France|Female| 32|     8|20666375|            1|        0|             0|        1628194|     0|\n",
      "|        564|   France|Female| 36|     7|20632965|            1|        1|             1|        4663287|     1|\n",
      "|        678|   France|Female| 49|     3|20451094|            1|        0|             1|          73888|     1|\n",
      "|        747|   France|  Male| 49|     6|20290464|            1|        1|             1|        1729872|     1|\n",
      "|        736|   France|  Male| 43|     4|20244347|            1|        1|             0|        7237503|     0|\n",
      "|        625|   France|  Male| 43|     8|20169607|            1|        1|             0|        1330209|     1|\n",
      "|        669|   France|  Male| 50|     9|20100964|            1|        1|             0|        1580325|     1|\n",
      "|        682|   France|  Male| 28|    10|20072496|            1|        0|             1|        8287264|     1|\n",
      "|        487|   France|  Male| 53|     4|19968949|            1|        1|             1|        2420786|     1|\n",
      "|        693|   France|  Male| 38|     7|19833877|            2|        1|             1|        1427818|     0|\n",
      "|        498|   France|  Male| 33|     1|19811386|            1|        1|             0|        6966435|     0|\n",
      "|        515|   France|Female| 37|     0|19685362|            1|        1|             1|       13277011|     0|\n",
      "|        694|   France|Female| 38|     5|19592639|            1|        1|             1|        8552284|     0|\n",
      "|        697|   France|Female| 49|     7|19523829|            4|        0|             1|       13108356|     1|\n",
      "+-----------+---------+------+---+------+--------+-------------+---------+--------------+---------------+------+\n",
      "only showing top 20 rows\n",
      "\n"
     ]
    }
   ],
   "execution_count": 13
  },
  {
   "metadata": {},
   "cell_type": "code",
   "outputs": [],
   "execution_count": null,
   "source": [
    "from pyspark.sql import SparkSession\n",
    "from pyspark.sql import functions as F\n",
    "\n",
    "spark = (SparkSession.builder\n",
    "                    .enableHiveSupport()\n",
    "                    .getOrCreate()\n",
    "        )\n",
    "\n",
    "df_csv = spark.read.csv(\"s3a://tmp/Churn.csv\",\n",
    "                        header=True,\n",
    "                        inferSchema=True,\n",
    "                        sep=\";\")\n",
    "df_csv = df_csv.withColumn('EstimatedSalary', F.round(F.col('EstimatedSalary'), 2))\n",
    "df_csv.show(5)\n"
   ],
   "id": "86eae01acb36632b"
  },
  {
   "metadata": {
    "ExecuteTime": {
     "end_time": "2024-10-12T23:20:20.699536Z",
     "start_time": "2024-10-12T23:20:20.453165Z"
    }
   },
   "cell_type": "code",
   "source": [
    "(\n",
    "    df_csv\n",
    "    .select(\n",
    "        F.col(\"Geography\").alias(\"Cidade\"),\n",
    "        F.col(\"Gender\").alias(\"Sexo\"),\n",
    "        F.col(\"Age\").alias(\"Idade\"),\n",
    "        F.col(\"Balance\").alias(\"Saldo\"),\n",
    "        F.col(\"EstimatedSalary\").alias(\"SalarioAnual\")\n",
    "    )\n",
    "    .withColumn(\"SalarioMensal\", F.round(F.col(\"SalarioAnual\") / 12 * 5.6, 2))\n",
    "    .orderBy(F.col(\"SalarioMensal\").desc())\n",
    "    .drop(\"SalarioAnual\")\n",
    "    .show(10)\n",
    ")"
   ],
   "id": "bc553a864e6faa86",
   "outputs": [
    {
     "name": "stdout",
     "output_type": "stream",
     "text": [
      "+-------+------+-----+--------+-------------+\n",
      "| Cidade|  Sexo|Idade|   Saldo|SalarioMensal|\n",
      "+-------+------+-----+--------+-------------+\n",
      "|  Spain|Female|   42|       0|    9332982.4|\n",
      "|Germany|Female|   41| 9863577|   9331967.87|\n",
      "|  Spain|  Male|   27| 1533251|    9331155.4|\n",
      "| France|  Male|   37|17875584|   9330027.93|\n",
      "| France|  Male|   28|       0|    9329101.6|\n",
      "| France|Female|   40|16529812|   9326928.33|\n",
      "|  Spain|Female|   35| 4016988|   9326681.93|\n",
      "| France|  Male|   36|15542317|   9325928.27|\n",
      "|Germany|Female|   34| 9324442|   9324262.73|\n",
      "| France|Female|   29|       0|    9322864.6|\n",
      "+-------+------+-----+--------+-------------+\n",
      "only showing top 10 rows\n",
      "\n"
     ]
    }
   ],
   "execution_count": 18
  }
 ],
 "metadata": {
  "kernelspec": {
   "display_name": "Python 3",
   "language": "python",
   "name": "python3"
  },
  "language_info": {
   "codemirror_mode": {
    "name": "ipython",
    "version": 2
   },
   "file_extension": ".py",
   "mimetype": "text/x-python",
   "name": "python",
   "nbconvert_exporter": "python",
   "pygments_lexer": "ipython2",
   "version": "2.7.6"
  }
 },
 "nbformat": 4,
 "nbformat_minor": 5
}
